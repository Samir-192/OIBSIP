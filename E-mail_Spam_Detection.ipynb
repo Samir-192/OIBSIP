{
 "cells": [
  {
   "cell_type": "markdown",
   "id": "4780c3cb",
   "metadata": {},
   "source": [
    "# EMAIL SPAM DETECTION"
   ]
  },
  {
   "cell_type": "markdown",
   "id": "a624630b",
   "metadata": {},
   "source": [
    "**Import the Necessary Packages**"
   ]
  },
  {
   "cell_type": "code",
   "execution_count": 1,
   "id": "e1b8213a",
   "metadata": {},
   "outputs": [],
   "source": [
    "import nltk"
   ]
  },
  {
   "cell_type": "code",
   "execution_count": 2,
   "id": "d9d5f6bc",
   "metadata": {},
   "outputs": [],
   "source": [
    "messages=[line.rstrip() for line in open('SMSSpamCollection.csv')]"
   ]
  },
  {
   "cell_type": "code",
   "execution_count": 3,
   "id": "b3a8a5fa",
   "metadata": {},
   "outputs": [
    {
     "name": "stdout",
     "output_type": "stream",
     "text": [
      "5574\n"
     ]
    }
   ],
   "source": [
    "print(len(messages))"
   ]
  },
  {
   "cell_type": "code",
   "execution_count": 4,
   "id": "e388b271",
   "metadata": {},
   "outputs": [
    {
     "data": {
      "text/plain": [
       "list"
      ]
     },
     "execution_count": 4,
     "metadata": {},
     "output_type": "execute_result"
    }
   ],
   "source": [
    "type(messages)"
   ]
  },
  {
   "cell_type": "code",
   "execution_count": 5,
   "id": "a2bc4e0b",
   "metadata": {},
   "outputs": [
    {
     "data": {
      "text/plain": [
       "'ham\\tWhat you thinked about me. First time you saw me in class.'"
      ]
     },
     "execution_count": 5,
     "metadata": {},
     "output_type": "execute_result"
    }
   ],
   "source": [
    "messages[50]"
   ]
  },
  {
   "cell_type": "code",
   "execution_count": 6,
   "id": "1876f195",
   "metadata": {},
   "outputs": [
    {
     "name": "stdout",
     "output_type": "stream",
     "text": [
      "0 ham\tGo until jurong point, crazy.. Available only in bugis n great world la e buffet... Cine there got amore wat...\n",
      "\n",
      "\n",
      "1 ham\tOk lar... Joking wif u oni...\n",
      "\n",
      "\n",
      "2 spam\tFree entry in 2 a wkly comp to win FA Cup final tkts 21st May 2005. Text FA to 87121 to receive entry question(std txt rate)T&C's apply 08452810075over18's\n",
      "\n",
      "\n",
      "3 ham\tU dun say so early hor... U c already then say...\n",
      "\n",
      "\n",
      "4 ham\tNah I don't think he goes to usf, he lives around here though\n",
      "\n",
      "\n",
      "5 spam\tFreeMsg Hey there darling it's been 3 week's now and no word back! I'd like some fun you up for it still? Tb ok! XxX std chgs to send, Â£1.50 to rcv\n",
      "\n",
      "\n",
      "6 ham\tEven my brother is not like to speak with me. They treat me like aids patent.\n",
      "\n",
      "\n",
      "7 ham\tAs per your request 'Melle Melle (Oru Minnaminunginte Nurungu Vettam)' has been set as your callertune for all Callers. Press *9 to copy your friends Callertune\n",
      "\n",
      "\n",
      "8 spam\tWINNER!! As a valued network customer you have been selected to receivea Â£900 prize reward! To claim call 09061701461. Claim code KL341. Valid 12 hours only.\n",
      "\n",
      "\n",
      "9 spam\tHad your mobile 11 months or more? U R entitled to Update to the latest colour mobiles with camera for Free! Call The Mobile Update Co FREE on 08002986030\n",
      "\n",
      "\n"
     ]
    }
   ],
   "source": [
    "for mess_no,mess in enumerate(messages[:10]):\n",
    "    print(mess_no,mess)\n",
    "    print(\"\\n\")"
   ]
  },
  {
   "cell_type": "code",
   "execution_count": 7,
   "id": "2cc18317",
   "metadata": {},
   "outputs": [],
   "source": [
    "import pandas as pd"
   ]
  },
  {
   "cell_type": "code",
   "execution_count": 8,
   "id": "f8cda4f1",
   "metadata": {},
   "outputs": [],
   "source": [
    "mess_data=pd.read_csv('SMSSpamCollection.csv',sep='\\t',names=['Labels','Message'])"
   ]
  },
  {
   "cell_type": "code",
   "execution_count": 9,
   "id": "e409e793",
   "metadata": {},
   "outputs": [
    {
     "data": {
      "text/html": [
       "<div>\n",
       "<style scoped>\n",
       "    .dataframe tbody tr th:only-of-type {\n",
       "        vertical-align: middle;\n",
       "    }\n",
       "\n",
       "    .dataframe tbody tr th {\n",
       "        vertical-align: top;\n",
       "    }\n",
       "\n",
       "    .dataframe thead th {\n",
       "        text-align: right;\n",
       "    }\n",
       "</style>\n",
       "<table border=\"1\" class=\"dataframe\">\n",
       "  <thead>\n",
       "    <tr style=\"text-align: right;\">\n",
       "      <th></th>\n",
       "      <th>Labels</th>\n",
       "      <th>Message</th>\n",
       "    </tr>\n",
       "  </thead>\n",
       "  <tbody>\n",
       "    <tr>\n",
       "      <th>0</th>\n",
       "      <td>ham</td>\n",
       "      <td>Go until jurong point, crazy.. Available only ...</td>\n",
       "    </tr>\n",
       "    <tr>\n",
       "      <th>1</th>\n",
       "      <td>ham</td>\n",
       "      <td>Ok lar... Joking wif u oni...</td>\n",
       "    </tr>\n",
       "    <tr>\n",
       "      <th>2</th>\n",
       "      <td>spam</td>\n",
       "      <td>Free entry in 2 a wkly comp to win FA Cup fina...</td>\n",
       "    </tr>\n",
       "    <tr>\n",
       "      <th>3</th>\n",
       "      <td>ham</td>\n",
       "      <td>U dun say so early hor... U c already then say...</td>\n",
       "    </tr>\n",
       "    <tr>\n",
       "      <th>4</th>\n",
       "      <td>ham</td>\n",
       "      <td>Nah I don't think he goes to usf, he lives aro...</td>\n",
       "    </tr>\n",
       "  </tbody>\n",
       "</table>\n",
       "</div>"
      ],
      "text/plain": [
       "  Labels                                            Message\n",
       "0    ham  Go until jurong point, crazy.. Available only ...\n",
       "1    ham                      Ok lar... Joking wif u oni...\n",
       "2   spam  Free entry in 2 a wkly comp to win FA Cup fina...\n",
       "3    ham  U dun say so early hor... U c already then say...\n",
       "4    ham  Nah I don't think he goes to usf, he lives aro..."
      ]
     },
     "execution_count": 9,
     "metadata": {},
     "output_type": "execute_result"
    }
   ],
   "source": [
    "mess_data.head()"
   ]
  },
  {
   "cell_type": "code",
   "execution_count": 10,
   "id": "4da25022",
   "metadata": {},
   "outputs": [
    {
     "data": {
      "text/html": [
       "<div>\n",
       "<style scoped>\n",
       "    .dataframe tbody tr th:only-of-type {\n",
       "        vertical-align: middle;\n",
       "    }\n",
       "\n",
       "    .dataframe tbody tr th {\n",
       "        vertical-align: top;\n",
       "    }\n",
       "\n",
       "    .dataframe thead th {\n",
       "        text-align: right;\n",
       "    }\n",
       "</style>\n",
       "<table border=\"1\" class=\"dataframe\">\n",
       "  <thead>\n",
       "    <tr style=\"text-align: right;\">\n",
       "      <th></th>\n",
       "      <th>Labels</th>\n",
       "      <th>Message</th>\n",
       "    </tr>\n",
       "  </thead>\n",
       "  <tbody>\n",
       "    <tr>\n",
       "      <th>count</th>\n",
       "      <td>5572</td>\n",
       "      <td>5572</td>\n",
       "    </tr>\n",
       "    <tr>\n",
       "      <th>unique</th>\n",
       "      <td>2</td>\n",
       "      <td>5169</td>\n",
       "    </tr>\n",
       "    <tr>\n",
       "      <th>top</th>\n",
       "      <td>ham</td>\n",
       "      <td>Sorry, I'll call later</td>\n",
       "    </tr>\n",
       "    <tr>\n",
       "      <th>freq</th>\n",
       "      <td>4825</td>\n",
       "      <td>30</td>\n",
       "    </tr>\n",
       "  </tbody>\n",
       "</table>\n",
       "</div>"
      ],
      "text/plain": [
       "       Labels                 Message\n",
       "count    5572                    5572\n",
       "unique      2                    5169\n",
       "top       ham  Sorry, I'll call later\n",
       "freq     4825                      30"
      ]
     },
     "execution_count": 10,
     "metadata": {},
     "output_type": "execute_result"
    }
   ],
   "source": [
    "mess_data.describe()"
   ]
  },
  {
   "cell_type": "code",
   "execution_count": 11,
   "id": "ab6b761a",
   "metadata": {},
   "outputs": [
    {
     "data": {
      "text/html": [
       "<div>\n",
       "<style scoped>\n",
       "    .dataframe tbody tr th:only-of-type {\n",
       "        vertical-align: middle;\n",
       "    }\n",
       "\n",
       "    .dataframe tbody tr th {\n",
       "        vertical-align: top;\n",
       "    }\n",
       "\n",
       "    .dataframe thead th {\n",
       "        text-align: right;\n",
       "    }\n",
       "</style>\n",
       "<table border=\"1\" class=\"dataframe\">\n",
       "  <thead>\n",
       "    <tr style=\"text-align: right;\">\n",
       "      <th></th>\n",
       "      <th>Labels</th>\n",
       "      <th>ham</th>\n",
       "      <th>spam</th>\n",
       "    </tr>\n",
       "  </thead>\n",
       "  <tbody>\n",
       "    <tr>\n",
       "      <th rowspan=\"4\" valign=\"top\">Message</th>\n",
       "      <th>count</th>\n",
       "      <td>4825</td>\n",
       "      <td>747</td>\n",
       "    </tr>\n",
       "    <tr>\n",
       "      <th>unique</th>\n",
       "      <td>4516</td>\n",
       "      <td>653</td>\n",
       "    </tr>\n",
       "    <tr>\n",
       "      <th>top</th>\n",
       "      <td>Sorry, I'll call later</td>\n",
       "      <td>Please call our customer service representativ...</td>\n",
       "    </tr>\n",
       "    <tr>\n",
       "      <th>freq</th>\n",
       "      <td>30</td>\n",
       "      <td>4</td>\n",
       "    </tr>\n",
       "  </tbody>\n",
       "</table>\n",
       "</div>"
      ],
      "text/plain": [
       "Labels                             ham  \\\n",
       "Message count                     4825   \n",
       "        unique                    4516   \n",
       "        top     Sorry, I'll call later   \n",
       "        freq                        30   \n",
       "\n",
       "Labels                                                       spam  \n",
       "Message count                                                 747  \n",
       "        unique                                                653  \n",
       "        top     Please call our customer service representativ...  \n",
       "        freq                                                    4  "
      ]
     },
     "execution_count": 11,
     "metadata": {},
     "output_type": "execute_result"
    }
   ],
   "source": [
    "mess_data.groupby('Labels').describe().transpose()"
   ]
  },
  {
   "cell_type": "code",
   "execution_count": 12,
   "id": "c7e96a3a",
   "metadata": {},
   "outputs": [
    {
     "data": {
      "text/html": [
       "<div>\n",
       "<style scoped>\n",
       "    .dataframe tbody tr th:only-of-type {\n",
       "        vertical-align: middle;\n",
       "    }\n",
       "\n",
       "    .dataframe tbody tr th {\n",
       "        vertical-align: top;\n",
       "    }\n",
       "\n",
       "    .dataframe thead tr th {\n",
       "        text-align: left;\n",
       "    }\n",
       "\n",
       "    .dataframe thead tr:last-of-type th {\n",
       "        text-align: right;\n",
       "    }\n",
       "</style>\n",
       "<table border=\"1\" class=\"dataframe\">\n",
       "  <thead>\n",
       "    <tr>\n",
       "      <th></th>\n",
       "      <th colspan=\"4\" halign=\"left\">Message</th>\n",
       "    </tr>\n",
       "    <tr>\n",
       "      <th></th>\n",
       "      <th>count</th>\n",
       "      <th>unique</th>\n",
       "      <th>top</th>\n",
       "      <th>freq</th>\n",
       "    </tr>\n",
       "    <tr>\n",
       "      <th>Labels</th>\n",
       "      <th></th>\n",
       "      <th></th>\n",
       "      <th></th>\n",
       "      <th></th>\n",
       "    </tr>\n",
       "  </thead>\n",
       "  <tbody>\n",
       "    <tr>\n",
       "      <th>ham</th>\n",
       "      <td>4825</td>\n",
       "      <td>4516</td>\n",
       "      <td>Sorry, I'll call later</td>\n",
       "      <td>30</td>\n",
       "    </tr>\n",
       "    <tr>\n",
       "      <th>spam</th>\n",
       "      <td>747</td>\n",
       "      <td>653</td>\n",
       "      <td>Please call our customer service representativ...</td>\n",
       "      <td>4</td>\n",
       "    </tr>\n",
       "  </tbody>\n",
       "</table>\n",
       "</div>"
      ],
      "text/plain": [
       "       Message                                                               \n",
       "         count unique                                                top freq\n",
       "Labels                                                                       \n",
       "ham       4825   4516                             Sorry, I'll call later   30\n",
       "spam       747    653  Please call our customer service representativ...    4"
      ]
     },
     "execution_count": 12,
     "metadata": {},
     "output_type": "execute_result"
    }
   ],
   "source": [
    "mess_data.groupby('Labels').describe()"
   ]
  },
  {
   "cell_type": "code",
   "execution_count": 13,
   "id": "b56a291d",
   "metadata": {},
   "outputs": [],
   "source": [
    "mess_data['Length']=mess_data['Message'].apply(len)"
   ]
  },
  {
   "cell_type": "code",
   "execution_count": 14,
   "id": "355614f3",
   "metadata": {},
   "outputs": [
    {
     "data": {
      "text/html": [
       "<div>\n",
       "<style scoped>\n",
       "    .dataframe tbody tr th:only-of-type {\n",
       "        vertical-align: middle;\n",
       "    }\n",
       "\n",
       "    .dataframe tbody tr th {\n",
       "        vertical-align: top;\n",
       "    }\n",
       "\n",
       "    .dataframe thead th {\n",
       "        text-align: right;\n",
       "    }\n",
       "</style>\n",
       "<table border=\"1\" class=\"dataframe\">\n",
       "  <thead>\n",
       "    <tr style=\"text-align: right;\">\n",
       "      <th></th>\n",
       "      <th>Labels</th>\n",
       "      <th>Message</th>\n",
       "      <th>Length</th>\n",
       "    </tr>\n",
       "  </thead>\n",
       "  <tbody>\n",
       "    <tr>\n",
       "      <th>0</th>\n",
       "      <td>ham</td>\n",
       "      <td>Go until jurong point, crazy.. Available only ...</td>\n",
       "      <td>111</td>\n",
       "    </tr>\n",
       "    <tr>\n",
       "      <th>1</th>\n",
       "      <td>ham</td>\n",
       "      <td>Ok lar... Joking wif u oni...</td>\n",
       "      <td>29</td>\n",
       "    </tr>\n",
       "    <tr>\n",
       "      <th>2</th>\n",
       "      <td>spam</td>\n",
       "      <td>Free entry in 2 a wkly comp to win FA Cup fina...</td>\n",
       "      <td>155</td>\n",
       "    </tr>\n",
       "    <tr>\n",
       "      <th>3</th>\n",
       "      <td>ham</td>\n",
       "      <td>U dun say so early hor... U c already then say...</td>\n",
       "      <td>49</td>\n",
       "    </tr>\n",
       "    <tr>\n",
       "      <th>4</th>\n",
       "      <td>ham</td>\n",
       "      <td>Nah I don't think he goes to usf, he lives aro...</td>\n",
       "      <td>61</td>\n",
       "    </tr>\n",
       "  </tbody>\n",
       "</table>\n",
       "</div>"
      ],
      "text/plain": [
       "  Labels                                            Message  Length\n",
       "0    ham  Go until jurong point, crazy.. Available only ...     111\n",
       "1    ham                      Ok lar... Joking wif u oni...      29\n",
       "2   spam  Free entry in 2 a wkly comp to win FA Cup fina...     155\n",
       "3    ham  U dun say so early hor... U c already then say...      49\n",
       "4    ham  Nah I don't think he goes to usf, he lives aro...      61"
      ]
     },
     "execution_count": 14,
     "metadata": {},
     "output_type": "execute_result"
    }
   ],
   "source": [
    "mess_data.head()"
   ]
  },
  {
   "cell_type": "code",
   "execution_count": 15,
   "id": "83a3842e",
   "metadata": {},
   "outputs": [],
   "source": [
    "import matplotlib.pyplot as plt\n",
    "import seaborn as sns\n",
    "%matplotlib inline"
   ]
  },
  {
   "cell_type": "markdown",
   "id": "47462627",
   "metadata": {},
   "source": [
    "# DATA VISUALIZATION"
   ]
  },
  {
   "cell_type": "code",
   "execution_count": 16,
   "id": "9a1b3ed8",
   "metadata": {},
   "outputs": [
    {
     "data": {
      "text/plain": [
       "<Axes: ylabel='Frequency'>"
      ]
     },
     "execution_count": 16,
     "metadata": {},
     "output_type": "execute_result"
    },
    {
     "data": {
      "image/png": "[encoded data removed]",
      "text/plain": [
       "<Figure size 640x480 with 1 Axes>"
      ]
     },
     "metadata": {},
     "output_type": "display_data"
    }
   ],
   "source": [
    "mess_data['Length'].plot(kind='hist',bins=20)"
   ]
  },
  {
   "cell_type": "code",
   "execution_count": 17,
   "id": "1735f595",
   "metadata": {},
   "outputs": [
    {
     "data": {
      "text/plain": [
       "count    5572.000000\n",
       "mean       80.489950\n",
       "std        59.942907\n",
       "min         2.000000\n",
       "25%        36.000000\n",
       "50%        62.000000\n",
       "75%       122.000000\n",
       "max       910.000000\n",
       "Name: Length, dtype: float64"
      ]
     },
     "execution_count": 17,
     "metadata": {},
     "output_type": "execute_result"
    }
   ],
   "source": [
    "mess_data['Length'].describe()"
   ]
  },
  {
   "cell_type": "code",
   "execution_count": 18,
   "id": "389948f0",
   "metadata": {},
   "outputs": [
    {
     "data": {
      "text/plain": [
       "\"For me the love should start with attraction.i should feel that I need her every time around me.she should be the first thing which comes in my thoughts.I would start the day and end it with her.she should be there every time I dream.love will be then when my every breath has her name.my life should happen around her.my life will be named to her.I would cry for her.will give all my happiness and take all her sorrows.I will be ready to fight with anyone for her.I will be in love when I will be doing the craziest things for her.love will be when I don't have to proove anyone that my girl is the most beautiful lady on the whole planet.I will always be singing praises for her.love will be when I start up making chicken curry and end up makiing sambar.life will be the most beautiful then.will get every morning and thank god for the day because she is with me.I would like to say a lot..will tell later..\""
      ]
     },
     "execution_count": 18,
     "metadata": {},
     "output_type": "execute_result"
    }
   ],
   "source": [
    "mess_data[mess_data['Length']==910]['Message'].iloc[0]"
   ]
  },
  {
   "cell_type": "code",
   "execution_count": 19,
   "id": "ff9a12ed",
   "metadata": {},
   "outputs": [
    {
     "data": {
      "text/plain": [
       "\"The last thing i ever wanted to do was hurt you. And i didn't think it would have. You'd laugh, be embarassed, delete the tag and keep going. But as far as i knew, it wasn't even up. The fact that you even felt like i would do it to hurt you shows you really don't know me at all. It was messy wednesday, but it wasn't bad. The problem i have with it is you HAVE the time to clean it, but you choose not to. You skype, you take pictures, you sleep, you want to go out. I don't mind a few things here and there, but when you don't make the bed, when you throw laundry on top of it, when i can't have a friend in the house because i'm embarassed that there's underwear and bras strewn on the bed, pillows on the floor, that's something else. You used to be good about at least making the bed.\""
      ]
     },
     "execution_count": 19,
     "metadata": {},
     "output_type": "execute_result"
    }
   ],
   "source": [
    "mess_data[mess_data['Length']>780]['Message'].iloc[1]"
   ]
  },
  {
   "cell_type": "code",
   "execution_count": 20,
   "id": "763487e7",
   "metadata": {},
   "outputs": [
    {
     "data": {
      "text/plain": [
       "<Axes: xlabel='Length', ylabel='Count'>"
      ]
     },
     "execution_count": 20,
     "metadata": {},
     "output_type": "execute_result"
    },
    {
     "data": {
      "image/png": "[encoded data removed]",
      "text/plain": [
       "<Figure size 640x480 with 1 Axes>"
      ]
     },
     "metadata": {},
     "output_type": "display_data"
    }
   ],
   "source": [
    "import warnings\n",
    "warnings.filterwarnings('ignore')\n",
    "sns.histplot(data=mess_data,x='Length',hue='Labels',bins=50)"
   ]
  },
  {
   "cell_type": "code",
   "execution_count": 21,
   "id": "44737dc8",
   "metadata": {},
   "outputs": [
    {
     "data": {
      "text/plain": [
       "<Figure size 1000x1000 with 0 Axes>"
      ]
     },
     "metadata": {},
     "output_type": "display_data"
    },
    {
     "data": {
      "image/png": "[encoded data removed]",
      "text/plain": [
       "<Figure size 1000x500 with 2 Axes>"
      ]
     },
     "metadata": {},
     "output_type": "display_data"
    }
   ],
   "source": [
    "plt.figure(figsize=(10,10))\n",
    "g=sns.FacetGrid(data=mess_data,col='Labels',height=5)\n",
    "g.map(sns.histplot,'Length',bins=50)\n",
    "plt.show()"
   ]
  },
  {
   "cell_type": "code",
   "execution_count": 22,
   "id": "bf26d42e",
   "metadata": {},
   "outputs": [
    {
     "data": {
      "text/plain": [
       "array([<Axes: title={'center': 'ham'}>, <Axes: title={'center': 'spam'}>],\n",
       "      dtype=object)"
      ]
     },
     "execution_count": 22,
     "metadata": {},
     "output_type": "execute_result"
    },
    {
     "data": {
      "image/png": "[encoded data removed]",
      "text/plain": [
       "<Figure size 1200x400 with 2 Axes>"
      ]
     },
     "metadata": {},
     "output_type": "display_data"
    }
   ],
   "source": [
    "mess_data.hist(column='Length', by='Labels', bins=50,figsize=(12,4))"
   ]
  },
  {
   "cell_type": "markdown",
   "id": "7b28378e",
   "metadata": {},
   "source": [
    "# DATA PREPROCESSING"
   ]
  },
  {
   "cell_type": "code",
   "execution_count": 23,
   "id": "ca9dc919",
   "metadata": {},
   "outputs": [],
   "source": [
    "import string"
   ]
  },
  {
   "cell_type": "code",
   "execution_count": 24,
   "id": "67d6c01b",
   "metadata": {},
   "outputs": [],
   "source": [
    "mytext='Hello Welcome! This is Jupyter Notebook; You will work more...'"
   ]
  },
  {
   "cell_type": "code",
   "execution_count": 25,
   "id": "c85fe8d9",
   "metadata": {},
   "outputs": [
    {
     "data": {
      "text/plain": [
       "'!\"#$%&\\'()*+,-./:;<=>?@[\\\\]^_`{|}~'"
      ]
     },
     "execution_count": 25,
     "metadata": {},
     "output_type": "execute_result"
    }
   ],
   "source": [
    "string.punctuation"
   ]
  },
  {
   "cell_type": "code",
   "execution_count": 26,
   "id": "d7475ca7",
   "metadata": {},
   "outputs": [],
   "source": [
    "nonpunc=[c for c in mytext if c not in string.punctuation]"
   ]
  },
  {
   "cell_type": "code",
   "execution_count": 27,
   "id": "685566be",
   "metadata": {},
   "outputs": [
    {
     "name": "stdout",
     "output_type": "stream",
     "text": [
      "['H', 'e', 'l', 'l', 'o', ' ', 'W', 'e', 'l', 'c', 'o', 'm', 'e', ' ', 'T', 'h', 'i', 's', ' ', 'i', 's', ' ', 'J', 'u', 'p', 'y', 't', 'e', 'r', ' ', 'N', 'o', 't', 'e', 'b', 'o', 'o', 'k', ' ', 'Y', 'o', 'u', ' ', 'w', 'i', 'l', 'l', ' ', 'w', 'o', 'r', 'k', ' ', 'm', 'o', 'r', 'e']\n"
     ]
    }
   ],
   "source": [
    "print(nonpunc)"
   ]
  },
  {
   "cell_type": "code",
   "execution_count": 28,
   "id": "f99970dd",
   "metadata": {},
   "outputs": [
    {
     "name": "stdout",
     "output_type": "stream",
     "text": [
      "Sample message Notice it has punctuation\n"
     ]
    }
   ],
   "source": [
    "mess = 'Sample message! Notice: it has punctuation.'\n",
    "\n",
    "# Check characters to see if they are in punctuation\n",
    "nopunc = [char for char in mess if char not in string.punctuation]\n",
    "\n",
    "# Join the characters again to form the string.\n",
    "nopunc = ''.join(nopunc)\n",
    "print(nopunc)"
   ]
  },
  {
   "cell_type": "code",
   "execution_count": 29,
   "id": "8dee9d1c",
   "metadata": {},
   "outputs": [],
   "source": [
    "from nltk.corpus import stopwords"
   ]
  },
  {
   "cell_type": "code",
   "execution_count": 30,
   "id": "73a569b3",
   "metadata": {},
   "outputs": [
    {
     "data": {
      "text/plain": [
       "['i',\n",
       " 'me',\n",
       " 'my',\n",
       " 'myself',\n",
       " 'we',\n",
       " 'our',\n",
       " 'ours',\n",
       " 'ourselves',\n",
       " 'you',\n",
       " \"you're\",\n",
       " \"you've\",\n",
       " \"you'll\",\n",
       " \"you'd\",\n",
       " 'your',\n",
       " 'yours',\n",
       " 'yourself',\n",
       " 'yourselves',\n",
       " 'he',\n",
       " 'him',\n",
       " 'his',\n",
       " 'himself',\n",
       " 'she',\n",
       " \"she's\",\n",
       " 'her',\n",
       " 'hers',\n",
       " 'herself',\n",
       " 'it',\n",
       " \"it's\",\n",
       " 'its',\n",
       " 'itself',\n",
       " 'they',\n",
       " 'them',\n",
       " 'their',\n",
       " 'theirs',\n",
       " 'themselves',\n",
       " 'what',\n",
       " 'which',\n",
       " 'who',\n",
       " 'whom',\n",
       " 'this',\n",
       " 'that',\n",
       " \"that'll\",\n",
       " 'these',\n",
       " 'those',\n",
       " 'am',\n",
       " 'is',\n",
       " 'are',\n",
       " 'was',\n",
       " 'were',\n",
       " 'be',\n",
       " 'been',\n",
       " 'being',\n",
       " 'have',\n",
       " 'has',\n",
       " 'had',\n",
       " 'having',\n",
       " 'do',\n",
       " 'does',\n",
       " 'did',\n",
       " 'doing',\n",
       " 'a',\n",
       " 'an',\n",
       " 'the',\n",
       " 'and',\n",
       " 'but',\n",
       " 'if',\n",
       " 'or',\n",
       " 'because',\n",
       " 'as',\n",
       " 'until',\n",
       " 'while',\n",
       " 'of',\n",
       " 'at',\n",
       " 'by',\n",
       " 'for',\n",
       " 'with',\n",
       " 'about',\n",
       " 'against',\n",
       " 'between',\n",
       " 'into',\n",
       " 'through',\n",
       " 'during',\n",
       " 'before',\n",
       " 'after',\n",
       " 'above',\n",
       " 'below',\n",
       " 'to',\n",
       " 'from',\n",
       " 'up',\n",
       " 'down',\n",
       " 'in',\n",
       " 'out',\n",
       " 'on',\n",
       " 'off',\n",
       " 'over',\n",
       " 'under',\n",
       " 'again',\n",
       " 'further',\n",
       " 'then',\n",
       " 'once',\n",
       " 'here',\n",
       " 'there',\n",
       " 'when',\n",
       " 'where',\n",
       " 'why',\n",
       " 'how',\n",
       " 'all',\n",
       " 'any',\n",
       " 'both',\n",
       " 'each',\n",
       " 'few',\n",
       " 'more',\n",
       " 'most',\n",
       " 'other',\n",
       " 'some',\n",
       " 'such',\n",
       " 'no',\n",
       " 'nor',\n",
       " 'not',\n",
       " 'only',\n",
       " 'own',\n",
       " 'same',\n",
       " 'so',\n",
       " 'than',\n",
       " 'too',\n",
       " 'very',\n",
       " 's',\n",
       " 't',\n",
       " 'can',\n",
       " 'will',\n",
       " 'just',\n",
       " 'don',\n",
       " \"don't\",\n",
       " 'should',\n",
       " \"should've\",\n",
       " 'now',\n",
       " 'd',\n",
       " 'll',\n",
       " 'm',\n",
       " 'o',\n",
       " 're',\n",
       " 've',\n",
       " 'y',\n",
       " 'ain',\n",
       " 'aren',\n",
       " \"aren't\",\n",
       " 'couldn',\n",
       " \"couldn't\",\n",
       " 'didn',\n",
       " \"didn't\",\n",
       " 'doesn',\n",
       " \"doesn't\",\n",
       " 'hadn',\n",
       " \"hadn't\",\n",
       " 'hasn',\n",
       " \"hasn't\",\n",
       " 'haven',\n",
       " \"haven't\",\n",
       " 'isn',\n",
       " \"isn't\",\n",
       " 'ma',\n",
       " 'mightn',\n",
       " \"mightn't\",\n",
       " 'mustn',\n",
       " \"mustn't\",\n",
       " 'needn',\n",
       " \"needn't\",\n",
       " 'shan',\n",
       " \"shan't\",\n",
       " 'shouldn',\n",
       " \"shouldn't\",\n",
       " 'wasn',\n",
       " \"wasn't\",\n",
       " 'weren',\n",
       " \"weren't\",\n",
       " 'won',\n",
       " \"won't\",\n",
       " 'wouldn',\n",
       " \"wouldn't\"]"
      ]
     },
     "execution_count": 30,
     "metadata": {},
     "output_type": "execute_result"
    }
   ],
   "source": [
    "stopwords.words('english')"
   ]
  },
  {
   "cell_type": "code",
   "execution_count": 31,
   "id": "bb5c233c",
   "metadata": {},
   "outputs": [
    {
     "data": {
      "text/plain": [
       "['Sample', 'message', 'Notice', 'it', 'has', 'punctuation']"
      ]
     },
     "execution_count": 31,
     "metadata": {},
     "output_type": "execute_result"
    }
   ],
   "source": [
    "nopunc.split()"
   ]
  },
  {
   "cell_type": "code",
   "execution_count": 32,
   "id": "d5fc142e",
   "metadata": {},
   "outputs": [],
   "source": [
    "clean_mess = [word for word in nopunc.split() if word.lower() not in stopwords.words('english')]"
   ]
  },
  {
   "cell_type": "code",
   "execution_count": 33,
   "id": "43284f40",
   "metadata": {},
   "outputs": [
    {
     "data": {
      "text/plain": [
       "['Sample', 'message', 'Notice', 'punctuation']"
      ]
     },
     "execution_count": 33,
     "metadata": {},
     "output_type": "execute_result"
    }
   ],
   "source": [
    "clean_mess#it and has were removed"
   ]
  },
  {
   "cell_type": "code",
   "execution_count": 34,
   "id": "fa2e6bad",
   "metadata": {},
   "outputs": [],
   "source": [
    "def text_process(mess):\n",
    "    no_punc=[c for c in mess if c not in string.punctuation]\n",
    "    abc=''.join(no_punc)\n",
    "    return [word for word in abc.split() if word.lower() not in stopwords.words('english')]"
   ]
  },
  {
   "cell_type": "code",
   "execution_count": 35,
   "id": "679481f4",
   "metadata": {},
   "outputs": [
    {
     "data": {
      "text/html": [
       "<div>\n",
       "<style scoped>\n",
       "    .dataframe tbody tr th:only-of-type {\n",
       "        vertical-align: middle;\n",
       "    }\n",
       "\n",
       "    .dataframe tbody tr th {\n",
       "        vertical-align: top;\n",
       "    }\n",
       "\n",
       "    .dataframe thead th {\n",
       "        text-align: right;\n",
       "    }\n",
       "</style>\n",
       "<table border=\"1\" class=\"dataframe\">\n",
       "  <thead>\n",
       "    <tr style=\"text-align: right;\">\n",
       "      <th></th>\n",
       "      <th>Labels</th>\n",
       "      <th>Message</th>\n",
       "      <th>Length</th>\n",
       "    </tr>\n",
       "  </thead>\n",
       "  <tbody>\n",
       "    <tr>\n",
       "      <th>0</th>\n",
       "      <td>ham</td>\n",
       "      <td>Go until jurong point, crazy.. Available only ...</td>\n",
       "      <td>111</td>\n",
       "    </tr>\n",
       "    <tr>\n",
       "      <th>1</th>\n",
       "      <td>ham</td>\n",
       "      <td>Ok lar... Joking wif u oni...</td>\n",
       "      <td>29</td>\n",
       "    </tr>\n",
       "    <tr>\n",
       "      <th>2</th>\n",
       "      <td>spam</td>\n",
       "      <td>Free entry in 2 a wkly comp to win FA Cup fina...</td>\n",
       "      <td>155</td>\n",
       "    </tr>\n",
       "    <tr>\n",
       "      <th>3</th>\n",
       "      <td>ham</td>\n",
       "      <td>U dun say so early hor... U c already then say...</td>\n",
       "      <td>49</td>\n",
       "    </tr>\n",
       "    <tr>\n",
       "      <th>4</th>\n",
       "      <td>ham</td>\n",
       "      <td>Nah I don't think he goes to usf, he lives aro...</td>\n",
       "      <td>61</td>\n",
       "    </tr>\n",
       "  </tbody>\n",
       "</table>\n",
       "</div>"
      ],
      "text/plain": [
       "  Labels                                            Message  Length\n",
       "0    ham  Go until jurong point, crazy.. Available only ...     111\n",
       "1    ham                      Ok lar... Joking wif u oni...      29\n",
       "2   spam  Free entry in 2 a wkly comp to win FA Cup fina...     155\n",
       "3    ham  U dun say so early hor... U c already then say...      49\n",
       "4    ham  Nah I don't think he goes to usf, he lives aro...      61"
      ]
     },
     "execution_count": 35,
     "metadata": {},
     "output_type": "execute_result"
    }
   ],
   "source": [
    "mess_data.head()"
   ]
  },
  {
   "cell_type": "code",
   "execution_count": 36,
   "id": "2350628c",
   "metadata": {},
   "outputs": [
    {
     "data": {
      "text/plain": [
       "0       [Go, jurong, point, crazy, Available, bugis, n...\n",
       "1                          [Ok, lar, Joking, wif, u, oni]\n",
       "2       [Free, entry, 2, wkly, comp, win, FA, Cup, fin...\n",
       "3           [U, dun, say, early, hor, U, c, already, say]\n",
       "4       [Nah, dont, think, goes, usf, lives, around, t...\n",
       "                              ...                        \n",
       "5567    [2nd, time, tried, 2, contact, u, U, £750, Pou...\n",
       "5568                   [ü, b, going, esplanade, fr, home]\n",
       "5569                     [Pity, mood, Soany, suggestions]\n",
       "5570    [guy, bitching, acted, like, id, interested, b...\n",
       "5571                                   [Rofl, true, name]\n",
       "Name: Message, Length: 5572, dtype: object"
      ]
     },
     "execution_count": 36,
     "metadata": {},
     "output_type": "execute_result"
    }
   ],
   "source": [
    "mess_data['Message'].apply(lambda x:text_process(x))"
   ]
  },
  {
   "cell_type": "code",
   "execution_count": 37,
   "id": "80bb9216",
   "metadata": {},
   "outputs": [
    {
     "data": {
      "text/html": [
       "<div>\n",
       "<style scoped>\n",
       "    .dataframe tbody tr th:only-of-type {\n",
       "        vertical-align: middle;\n",
       "    }\n",
       "\n",
       "    .dataframe tbody tr th {\n",
       "        vertical-align: top;\n",
       "    }\n",
       "\n",
       "    .dataframe thead th {\n",
       "        text-align: right;\n",
       "    }\n",
       "</style>\n",
       "<table border=\"1\" class=\"dataframe\">\n",
       "  <thead>\n",
       "    <tr style=\"text-align: right;\">\n",
       "      <th></th>\n",
       "      <th>Labels</th>\n",
       "      <th>Message</th>\n",
       "      <th>Length</th>\n",
       "    </tr>\n",
       "  </thead>\n",
       "  <tbody>\n",
       "    <tr>\n",
       "      <th>0</th>\n",
       "      <td>ham</td>\n",
       "      <td>Go until jurong point, crazy.. Available only ...</td>\n",
       "      <td>111</td>\n",
       "    </tr>\n",
       "    <tr>\n",
       "      <th>1</th>\n",
       "      <td>ham</td>\n",
       "      <td>Ok lar... Joking wif u oni...</td>\n",
       "      <td>29</td>\n",
       "    </tr>\n",
       "    <tr>\n",
       "      <th>2</th>\n",
       "      <td>spam</td>\n",
       "      <td>Free entry in 2 a wkly comp to win FA Cup fina...</td>\n",
       "      <td>155</td>\n",
       "    </tr>\n",
       "    <tr>\n",
       "      <th>3</th>\n",
       "      <td>ham</td>\n",
       "      <td>U dun say so early hor... U c already then say...</td>\n",
       "      <td>49</td>\n",
       "    </tr>\n",
       "    <tr>\n",
       "      <th>4</th>\n",
       "      <td>ham</td>\n",
       "      <td>Nah I don't think he goes to usf, he lives aro...</td>\n",
       "      <td>61</td>\n",
       "    </tr>\n",
       "  </tbody>\n",
       "</table>\n",
       "</div>"
      ],
      "text/plain": [
       "  Labels                                            Message  Length\n",
       "0    ham  Go until jurong point, crazy.. Available only ...     111\n",
       "1    ham                      Ok lar... Joking wif u oni...      29\n",
       "2   spam  Free entry in 2 a wkly comp to win FA Cup fina...     155\n",
       "3    ham  U dun say so early hor... U c already then say...      49\n",
       "4    ham  Nah I don't think he goes to usf, he lives aro...      61"
      ]
     },
     "execution_count": 37,
     "metadata": {},
     "output_type": "execute_result"
    }
   ],
   "source": [
    "mess_data.head()"
   ]
  },
  {
   "cell_type": "markdown",
   "id": "78df2349",
   "metadata": {},
   "source": [
    "# DATA TRANSFORMATION"
   ]
  },
  {
   "cell_type": "code",
   "execution_count": 38,
   "id": "61bde40e",
   "metadata": {},
   "outputs": [],
   "source": [
    "from sklearn.feature_extraction.text import CountVectorizer"
   ]
  },
  {
   "cell_type": "code",
   "execution_count": 39,
   "id": "60b36f6d",
   "metadata": {},
   "outputs": [],
   "source": [
    "bow_transformer=CountVectorizer(analyzer=text_process).fit(mess_data['Message'])"
   ]
  },
  {
   "cell_type": "code",
   "execution_count": 40,
   "id": "e4f0978f",
   "metadata": {},
   "outputs": [
    {
     "data": {
      "text/plain": [
       "{'Go': 2060,\n",
       " 'jurong': 7555,\n",
       " 'point': 8917,\n",
       " 'crazy': 5769,\n",
       " 'Available': 1110,\n",
       " 'bugis': 5218,\n",
       " 'n': 8336,\n",
       " 'great': 6937,\n",
       " 'world': 11163,\n",
       " 'la': 7668,\n",
       " 'e': 6217,\n",
       " 'buffet': 5217,\n",
       " 'Cine': 1483,\n",
       " 'got': 6906,\n",
       " 'amore': 4653,\n",
       " 'wat': 10965,\n",
       " 'Ok': 3064,\n",
       " 'lar': 7701,\n",
       " 'Joking': 2451,\n",
       " 'wif': 11072,\n",
       " 'u': 10698,\n",
       " 'oni': 8590,\n",
       " 'Free': 1941,\n",
       " 'entry': 6331,\n",
       " '2': 423,\n",
       " 'wkly': 11123,\n",
       " 'comp': 5619,\n",
       " 'win': 11084,\n",
       " 'FA': 1833,\n",
       " 'Cup': 1551,\n",
       " 'final': 6557,\n",
       " 'tkts': 10512,\n",
       " '21st': 443,\n",
       " 'May': 2804,\n",
       " '2005': 430,\n",
       " 'Text': 3953,\n",
       " '87121': 871,\n",
       " 'receive': 9252,\n",
       " 'questionstd': 9159,\n",
       " 'txt': 10686,\n",
       " 'rateTCs': 9200,\n",
       " 'apply': 4731,\n",
       " '08452810075over18s': 73,\n",
       " 'U': 4068,\n",
       " 'dun': 6204,\n",
       " 'say': 9554,\n",
       " 'early': 6222,\n",
       " 'hor': 7186,\n",
       " 'c': 5261,\n",
       " 'already': 4629,\n",
       " 'Nah': 2948,\n",
       " 'dont': 6123,\n",
       " 'think': 10433,\n",
       " 'goes': 6877,\n",
       " 'usf': 10799,\n",
       " 'lives': 7842,\n",
       " 'around': 4777,\n",
       " 'though': 10450,\n",
       " 'FreeMsg': 1943,\n",
       " 'Hey': 2222,\n",
       " 'darling': 5864,\n",
       " '3': 543,\n",
       " 'weeks': 11011,\n",
       " 'word': 11150,\n",
       " 'back': 4893,\n",
       " 'Id': 2346,\n",
       " 'like': 7800,\n",
       " 'fun': 6755,\n",
       " 'still': 10093,\n",
       " 'Tb': 3930,\n",
       " 'ok': 8567,\n",
       " 'XxX': 4379,\n",
       " 'std': 10073,\n",
       " 'chgs': 5467,\n",
       " 'send': 9641,\n",
       " '£150': 11371,\n",
       " 'rcv': 9209,\n",
       " 'Even': 1802,\n",
       " 'brother': 5193,\n",
       " 'speak': 9971,\n",
       " 'treat': 10629,\n",
       " 'aids': 4590,\n",
       " 'patent': 8761,\n",
       " 'per': 8796,\n",
       " 'request': 9356,\n",
       " 'Melle': 2814,\n",
       " 'Oru': 3098,\n",
       " 'Minnaminunginte': 2833,\n",
       " 'Nurungu': 3023,\n",
       " 'Vettam': 4170,\n",
       " 'set': 9664,\n",
       " 'callertune': 5292,\n",
       " 'Callers': 1421,\n",
       " 'Press': 3278,\n",
       " '9': 909,\n",
       " 'copy': 5716,\n",
       " 'friends': 6719,\n",
       " 'Callertune': 1422,\n",
       " 'WINNER': 4221,\n",
       " 'valued': 10828,\n",
       " 'network': 8406,\n",
       " 'customer': 5820,\n",
       " 'selected': 9628,\n",
       " 'receivea': 9253,\n",
       " '£900': 11412,\n",
       " 'prize': 9058,\n",
       " 'reward': 9413,\n",
       " 'claim': 5519,\n",
       " 'call': 5275,\n",
       " '09061701461': 219,\n",
       " 'Claim': 1485,\n",
       " 'code': 5574,\n",
       " 'KL341': 2477,\n",
       " 'Valid': 4161,\n",
       " '12': 326,\n",
       " 'hours': 7201,\n",
       " 'mobile': 8216,\n",
       " '11': 315,\n",
       " 'months': 8251,\n",
       " 'R': 3321,\n",
       " 'entitled': 6328,\n",
       " 'Update': 4128,\n",
       " 'latest': 7716,\n",
       " 'colour': 5594,\n",
       " 'mobiles': 8217,\n",
       " 'camera': 5304,\n",
       " 'Call': 1417,\n",
       " 'Mobile': 2852,\n",
       " 'Co': 1492,\n",
       " 'FREE': 1865,\n",
       " '08002986030': 58,\n",
       " 'Im': 2352,\n",
       " 'gonna': 6890,\n",
       " 'home': 7159,\n",
       " 'soon': 9931,\n",
       " 'want': 10945,\n",
       " 'talk': 10303,\n",
       " 'stuff': 10153,\n",
       " 'anymore': 4701,\n",
       " 'tonight': 10557,\n",
       " 'k': 7561,\n",
       " 'Ive': 2394,\n",
       " 'cried': 5783,\n",
       " 'enough': 6319,\n",
       " 'today': 10524,\n",
       " 'SIX': 3495,\n",
       " 'chances': 5411,\n",
       " 'CASH': 1353,\n",
       " '100': 294,\n",
       " '20000': 427,\n",
       " 'pounds': 8975,\n",
       " 'CSH11': 1405,\n",
       " '87575': 875,\n",
       " 'Cost': 1524,\n",
       " '150pday': 364,\n",
       " '6days': 763,\n",
       " '16': 382,\n",
       " 'TsandCs': 4048,\n",
       " 'Reply': 3414,\n",
       " 'HL': 2139,\n",
       " '4': 605,\n",
       " 'info': 7354,\n",
       " 'URGENT': 4090,\n",
       " '1': 292,\n",
       " 'week': 11006,\n",
       " 'membership': 8110,\n",
       " '£100000': 11365,\n",
       " 'Prize': 3283,\n",
       " 'Jackpot': 2421,\n",
       " 'Txt': 4062,\n",
       " 'CLAIM': 1378,\n",
       " '81010': 821,\n",
       " 'TC': 3847,\n",
       " 'wwwdbuknet': 11231,\n",
       " 'LCCLTD': 2551,\n",
       " 'POBOX': 3138,\n",
       " '4403LDNW1A7RW18': 626,\n",
       " 'searching': 9597,\n",
       " 'right': 9422,\n",
       " 'words': 11154,\n",
       " 'thank': 10392,\n",
       " 'breather': 5166,\n",
       " 'promise': 9092,\n",
       " 'wont': 11145,\n",
       " 'take': 10295,\n",
       " 'help': 7089,\n",
       " 'granted': 6929,\n",
       " 'fulfil': 6751,\n",
       " 'wonderful': 11142,\n",
       " 'blessing': 5075,\n",
       " 'times': 10491,\n",
       " 'DATE': 1568,\n",
       " 'SUNDAY': 3567,\n",
       " 'XXXMobileMovieClub': 4370,\n",
       " 'use': 10793,\n",
       " 'credit': 5774,\n",
       " 'click': 5540,\n",
       " 'WAP': 4200,\n",
       " 'link': 7818,\n",
       " 'next': 8420,\n",
       " 'message': 8133,\n",
       " 'httpwap': 7224,\n",
       " 'xxxmobilemovieclubcomnQJKGIGHJJGCBL': 11273,\n",
       " 'Oh': 3059,\n",
       " 'kim': 7618,\n",
       " 'watching': 10970,\n",
       " 'Eh': 1769,\n",
       " 'remember': 9319,\n",
       " 'spell': 9985,\n",
       " 'name': 8348,\n",
       " 'Yes': 4425,\n",
       " 'v': 10816,\n",
       " 'naughty': 8368,\n",
       " 'make': 8000,\n",
       " 'wet': 11040,\n",
       " 'Fine': 1914,\n",
       " 'that\\x92s': 10405,\n",
       " 'way': 10979,\n",
       " 'feel': 6517,\n",
       " 'That\\x92s': 3964,\n",
       " 'gota': 6907,\n",
       " 'b': 4880,\n",
       " 'England': 1784,\n",
       " 'Macedonia': 2772,\n",
       " 'miss': 8191,\n",
       " 'goalsteam': 6870,\n",
       " 'news': 8415,\n",
       " 'ur': 10777,\n",
       " 'national': 8362,\n",
       " 'team': 10338,\n",
       " '87077': 870,\n",
       " 'eg': 6258,\n",
       " 'ENGLAND': 1728,\n",
       " 'TryWALES': 4042,\n",
       " 'SCOTLAND': 3460,\n",
       " '4txtú120': 677,\n",
       " 'POBOXox36504W45WQ': 3141,\n",
       " 'seriously': 9658,\n",
       " 'I‘m': 2401,\n",
       " 'going': 6882,\n",
       " 'try': 10655,\n",
       " 'ha': 6992,\n",
       " 'joking': 7534,\n",
       " 'ü': 11418,\n",
       " 'pay': 8769,\n",
       " 'first': 6584,\n",
       " 'da': 5832,\n",
       " 'stock': 10097,\n",
       " 'comin': 5609,\n",
       " 'Aft': 1019,\n",
       " 'finish': 6570,\n",
       " 'lunch': 7947,\n",
       " 'go': 6864,\n",
       " 'str': 10117,\n",
       " 'lor': 7888,\n",
       " 'Ard': 1084,\n",
       " 'smth': 9881,\n",
       " 'Ffffffffff': 1905,\n",
       " 'Alright': 1053,\n",
       " 'meet': 8092,\n",
       " 'sooner': 9932,\n",
       " 'forced': 6655,\n",
       " 'eat': 6234,\n",
       " 'slice': 9836,\n",
       " 'really': 9234,\n",
       " 'hungry': 7249,\n",
       " 'tho': 10446,\n",
       " 'sucks': 10186,\n",
       " 'Mark': 2794,\n",
       " 'getting': 6832,\n",
       " 'worried': 11169,\n",
       " 'knows': 7643,\n",
       " 'sick': 9764,\n",
       " 'turn': 10672,\n",
       " 'pizza': 8869,\n",
       " 'Lol': 2648,\n",
       " 'always': 4641,\n",
       " 'convincing': 5703,\n",
       " 'catch': 5374,\n",
       " 'bus': 5237,\n",
       " 'frying': 6741,\n",
       " 'egg': 6260,\n",
       " 'tea': 10332,\n",
       " 'eating': 6237,\n",
       " 'moms': 8235,\n",
       " 'left': 7748,\n",
       " 'dinner': 6045,\n",
       " 'Love': 2661,\n",
       " 'amp': 4655,\n",
       " 'packing': 8693,\n",
       " 'car': 5331,\n",
       " 'Ill': 2350,\n",
       " 'let': 7769,\n",
       " 'know': 7639,\n",
       " 'theres': 10421,\n",
       " 'room': 9460,\n",
       " 'Ahhh': 1028,\n",
       " 'Work': 4345,\n",
       " 'vaguely': 10819,\n",
       " 'Wait': 4256,\n",
       " 'thats': 10404,\n",
       " 'clear': 5534,\n",
       " 'sure': 10237,\n",
       " 'sarcastic': 9536,\n",
       " 'x': 11260,\n",
       " 'doesnt': 6099,\n",
       " 'live': 7839,\n",
       " 'us': 10787,\n",
       " 'Yeah': 4416,\n",
       " 'apologetic': 4719,\n",
       " 'fallen': 6468,\n",
       " 'actin': 4509,\n",
       " 'spoilt': 10005,\n",
       " 'child': 5483,\n",
       " 'caught': 5378,\n",
       " 'Till': 3997,\n",
       " 'badly': 4898,\n",
       " 'cheers': 5450,\n",
       " 'K': 2468,\n",
       " 'tell': 10354,\n",
       " 'anything': 4707,\n",
       " 'fear': 6509,\n",
       " 'fainting': 6459,\n",
       " 'housework': 7205,\n",
       " 'Quick': 3316,\n",
       " 'cuppa': 5810,\n",
       " 'Thanks': 3958,\n",
       " 'subscription': 10176,\n",
       " 'Ringtone': 3424,\n",
       " 'UK': 4074,\n",
       " 'charged': 5423,\n",
       " '£5month': 11404,\n",
       " 'Please': 3235,\n",
       " 'confirm': 5661,\n",
       " 'replying': 9351,\n",
       " 'YES': 4388,\n",
       " 'reply': 9349,\n",
       " 'Yup': 4450,\n",
       " 'look': 7880,\n",
       " 'timings': 10497,\n",
       " 'msg': 8283,\n",
       " 'Xuhui': 4377,\n",
       " 'learn': 7737,\n",
       " '2nd': 526,\n",
       " 'may': 8065,\n",
       " 'lesson': 7767,\n",
       " '8am': 903,\n",
       " 'Oops': 3085,\n",
       " 'roommates': 9463,\n",
       " 'done': 6120,\n",
       " 'see': 9613,\n",
       " 'letter': 7771,\n",
       " 'B': 1120,\n",
       " 'Anything': 1070,\n",
       " 'decide': 5915,\n",
       " 'Hello': 2209,\n",
       " 'Hows': 2279,\n",
       " 'saturday': 9546,\n",
       " 'texting': 10383,\n",
       " 'youd': 11318,\n",
       " 'decided': 5916,\n",
       " 'tomo': 10546,\n",
       " 'im': 7307,\n",
       " 'trying': 10657,\n",
       " 'invite': 7410,\n",
       " 'Pls': 3237,\n",
       " 'ahead': 4582,\n",
       " 'watts': 10977,\n",
       " 'wanted': 10947,\n",
       " 'weekend': 11008,\n",
       " 'Abiola': 999,\n",
       " 'forget': 6661,\n",
       " 'need': 8386,\n",
       " 'crave': 5766,\n",
       " 'love': 7913,\n",
       " 'sweet': 10261,\n",
       " 'Arabian': 1082,\n",
       " 'steed': 10079,\n",
       " 'Mmmmmm': 2846,\n",
       " 'Yummy': 4447,\n",
       " '07732584351': 29,\n",
       " 'Rodger': 3430,\n",
       " 'Burns': 1329,\n",
       " 'MSG': 2757,\n",
       " 'tried': 10638,\n",
       " 'sms': 9876,\n",
       " 'free': 6699,\n",
       " 'nokia': 8455,\n",
       " 'camcorder': 5302,\n",
       " '08000930705': 54,\n",
       " 'delivery': 5950,\n",
       " 'tomorrow': 10549,\n",
       " 'SEEING': 3464,\n",
       " 'Great': 2088,\n",
       " 'hope': 7177,\n",
       " 'man': 8009,\n",
       " 'well': 11023,\n",
       " 'endowed': 6303,\n",
       " 'ltgt': 7939,\n",
       " 'inches': 7333,\n",
       " 'callsmessagesmissed': 5298,\n",
       " 'calls': 5297,\n",
       " 'Didnt': 1663,\n",
       " 'get': 6824,\n",
       " 'hep': 7098,\n",
       " 'immunisation': 7315,\n",
       " 'nigeria': 8427,\n",
       " 'Fair': 1893,\n",
       " 'hopefully': 7182,\n",
       " 'tyler': 10692,\n",
       " 'cant': 5320,\n",
       " 'could': 5738,\n",
       " 'maybe': 8067,\n",
       " 'ask': 4799,\n",
       " 'bit': 5053,\n",
       " 'stubborn': 10143,\n",
       " 'didnt': 6014,\n",
       " 'even': 6369,\n",
       " 'hospital': 7192,\n",
       " 'kept': 7594,\n",
       " 'telling': 10355,\n",
       " 'weak': 10983,\n",
       " 'sucker': 10184,\n",
       " 'Hospitals': 2271,\n",
       " 'suckers': 10185,\n",
       " 'thinked': 10435,\n",
       " 'First': 1918,\n",
       " 'time': 10487,\n",
       " 'saw': 9553,\n",
       " 'class': 5527,\n",
       " 'gram': 6923,\n",
       " 'usually': 10805,\n",
       " 'runs': 9495,\n",
       " 'half': 7004,\n",
       " 'eighth': 6267,\n",
       " 'smarter': 9858,\n",
       " 'gets': 6828,\n",
       " 'almost': 4625,\n",
       " 'whole': 11063,\n",
       " 'second': 9601,\n",
       " 'fyi': 6768,\n",
       " 'ride': 9421,\n",
       " 'morning': 8256,\n",
       " 'hes': 7109,\n",
       " 'crashing': 5765,\n",
       " 'place': 8870,\n",
       " 'Wow': 4352,\n",
       " 'never': 8410,\n",
       " 'realized': 9232,\n",
       " 'embarassed': 6287,\n",
       " 'accomodations': 4492,\n",
       " 'thought': 10451,\n",
       " 'liked': 7801,\n",
       " 'since': 9788,\n",
       " 'best': 5014,\n",
       " 'seemed': 9619,\n",
       " 'happy': 7035,\n",
       " 'cave': 5382,\n",
       " 'sorry': 9941,\n",
       " 'give': 6850,\n",
       " 'offered': 8547,\n",
       " 'embarassing': 6288,\n",
       " 'SMS': 3506,\n",
       " 'ac': 4478,\n",
       " 'Sptv': 3762,\n",
       " 'New': 2968,\n",
       " 'Jersey': 2441,\n",
       " 'Devils': 1657,\n",
       " 'Detroit': 1656,\n",
       " 'Red': 3394,\n",
       " 'Wings': 4322,\n",
       " 'play': 8884,\n",
       " 'Ice': 2344,\n",
       " 'Hockey': 2249,\n",
       " 'Correct': 1522,\n",
       " 'Incorrect': 2360,\n",
       " 'End': 1782,\n",
       " 'END': 1726,\n",
       " 'SPTV': 3538,\n",
       " 'Mallika': 2784,\n",
       " 'Sherawat': 3653,\n",
       " 'yesterday': 11299,\n",
       " 'Find': 1913,\n",
       " 'ltURLgt': 7938,\n",
       " 'Congrats': 1513,\n",
       " 'year': 11290,\n",
       " 'special': 9973,\n",
       " 'cinema': 5515,\n",
       " 'pass': 8750,\n",
       " '09061209465': 214,\n",
       " 'C': 1337,\n",
       " 'Suprman': 3821,\n",
       " 'V': 4145,\n",
       " 'Matrix3': 2801,\n",
       " 'StarWars3': 3771,\n",
       " 'etc': 6359,\n",
       " 'bx420ip45we': 5256,\n",
       " '150pm': 365,\n",
       " 'Dont': 1694,\n",
       " 'Sorry': 3735,\n",
       " 'later': 7714,\n",
       " 'meeting': 8094,\n",
       " 'Tell': 3942,\n",
       " 'reached': 9216,\n",
       " 'Yesgauti': 4428,\n",
       " 'sehwag': 9625,\n",
       " 'odi': 8541,\n",
       " 'series': 9656,\n",
       " 'pick': 8844,\n",
       " 'burger': 5229,\n",
       " 'move': 8270,\n",
       " 'Pain': 3180,\n",
       " 'killing': 7615,\n",
       " 'Ha': 2168,\n",
       " 'good': 6892,\n",
       " 'joke': 7529,\n",
       " 'Girls': 2055,\n",
       " 'situation': 9808,\n",
       " 'seekers': 9616,\n",
       " 'part': 8739,\n",
       " 'checking': 5447,\n",
       " 'IQ': 2329,\n",
       " 'took': 10566,\n",
       " 'forever': 6658,\n",
       " 'come': 5601,\n",
       " 'double': 6134,\n",
       " 'check': 5444,\n",
       " 'hair': 7001,\n",
       " 'dresser': 6162,\n",
       " 'said': 9512,\n",
       " 'wun': 11208,\n",
       " 'cut': 5823,\n",
       " 'short': 9730,\n",
       " 'nice': 8423,\n",
       " 'pleased': 8895,\n",
       " 'advise': 4547,\n",
       " 'following': 6639,\n",
       " 'recent': 9256,\n",
       " 'review': 9411,\n",
       " 'Mob': 2849,\n",
       " 'awarded': 4873,\n",
       " '£1500': 11372,\n",
       " 'Bonus': 1282,\n",
       " '09066364589': 263,\n",
       " 'Today': 4011,\n",
       " 'song': 9927,\n",
       " 'dedicated': 5925,\n",
       " 'day': 5881,\n",
       " 'dedicate': 5924,\n",
       " 'Send': 3623,\n",
       " 'valuable': 10825,\n",
       " 'frnds': 6728,\n",
       " 'rply': 9476,\n",
       " 'Urgent': 4135,\n",
       " 'UR': 4087,\n",
       " 'complimentary': 5636,\n",
       " 'trip': 10639,\n",
       " 'EuroDisinc': 1799,\n",
       " 'Trav': 4032,\n",
       " 'AcoEntry41': 1008,\n",
       " '£1000': 11363,\n",
       " 'DIS': 1587,\n",
       " '186£150moreFrmMob': 391,\n",
       " 'ShrAcomOrSglSuplt10': 3673,\n",
       " 'LS1': 2589,\n",
       " '3AJ': 576,\n",
       " 'hear': 7066,\n",
       " 'new': 8413,\n",
       " 'Divorce': 1679,\n",
       " 'Barbie': 1225,\n",
       " 'comes': 5605,\n",
       " 'Kens': 2497,\n",
       " 'plane': 8877,\n",
       " 'month': 8248,\n",
       " 'end': 6298,\n",
       " 'Wah': 4254,\n",
       " 'lucky': 7944,\n",
       " 'save': 9549,\n",
       " 'money': 8241,\n",
       " 'Hee': 2203,\n",
       " 'Finished': 1917,\n",
       " 'HI': 2135,\n",
       " 'BABE': 1124,\n",
       " 'IM': 2308,\n",
       " 'HOME': 2145,\n",
       " 'WANNA': 4197,\n",
       " 'SOMETHING': 3515,\n",
       " 'XX': 4367,\n",
       " 'Kkwhere': 2527,\n",
       " 'youhow': 11321,\n",
       " 'performed': 8803,\n",
       " 'waiting': 10924,\n",
       " 'machan': 7969,\n",
       " 'Thats': 3963,\n",
       " 'cool': 5709,\n",
       " 'gentleman': 6818,\n",
       " 'dignity': 6036,\n",
       " 'respect': 9377,\n",
       " 'peoples': 8795,\n",
       " 'much': 8299,\n",
       " 'shy': 9760,\n",
       " 'pa': 8688,\n",
       " 'operate': 8606,\n",
       " 'Still': 3783,\n",
       " 'looking': 7883,\n",
       " 'job': 7516,\n",
       " 'Tas': 3927,\n",
       " 'earn': 6223,\n",
       " 'ah': 4580,\n",
       " 'hi': 7116,\n",
       " 'stop': 10106,\n",
       " 'urgnt': 10782,\n",
       " 'real': 9226,\n",
       " 'yo': 11308,\n",
       " 'tickets': 10478,\n",
       " 'one': 8586,\n",
       " 'jacket': 7477,\n",
       " 'used': 10794,\n",
       " 'multis': 8307,\n",
       " 'started': 10054,\n",
       " 'requests': 9357,\n",
       " 'pain': 8700,\n",
       " 'came': 5303,\n",
       " 'bed': 4973,\n",
       " 'Double': 1700,\n",
       " 'coins': 5580,\n",
       " 'factory': 6451,\n",
       " 'gotta': 6910,\n",
       " 'cash': 5363,\n",
       " 'nitros': 8445,\n",
       " 'babe': 4885,\n",
       " 'Ela': 1772,\n",
       " 'kanoil': 7577,\n",
       " 'download': 6140,\n",
       " 'wen': 11028,\n",
       " 'Don‘t': 1697,\n",
       " 'stand': 10043,\n",
       " 'close': 5546,\n",
       " 'you‘ll': 11338,\n",
       " 'something': 9915,\n",
       " 'another': 4686,\n",
       " 'night': 8428,\n",
       " 'spent': 9990,\n",
       " 'late': 7709,\n",
       " 'afternoon': 4563,\n",
       " 'casualty': 5372,\n",
       " 'means': 8083,\n",
       " 'havent': 7051,\n",
       " 'stuff42moro': 10154,\n",
       " 'includes': 7336,\n",
       " 'sheets': 9699,\n",
       " 'Smile': 3713,\n",
       " 'Pleasure': 3236,\n",
       " 'trouble': 10644,\n",
       " 'pours': 8977,\n",
       " 'Rain': 3368,\n",
       " 'sum1': 10204,\n",
       " 'Hurts': 2289,\n",
       " 'becoz': 4971,\n",
       " 'SOMEONE': 3513,\n",
       " 'Loves': 2667,\n",
       " 'Smiling': 3715,\n",
       " 'service': 9661,\n",
       " 'representative': 9354,\n",
       " '0800': 50,\n",
       " '169': 384,\n",
       " '6031': 726,\n",
       " '10am9pm': 309,\n",
       " 'guaranteed': 6969,\n",
       " '£5000': 11399,\n",
       " 'Havent': 2194,\n",
       " 'planning': 8881,\n",
       " 'buy': 5248,\n",
       " 'lido': 7783,\n",
       " '530': 697,\n",
       " 'show': 9744,\n",
       " 'work': 11155,\n",
       " 'ringtone': 9429,\n",
       " 'collected': 5587,\n",
       " 'Simply': 3683,\n",
       " 'text': 10378,\n",
       " 'password': 8758,\n",
       " 'MIX': 2732,\n",
       " '85069': 856,\n",
       " 'verify': 10846,\n",
       " 'Get': 2047,\n",
       " 'Usher': 4140,\n",
       " 'Britney': 1315,\n",
       " 'FML': 1857,\n",
       " 'PO': 3136,\n",
       " 'Box': 1292,\n",
       " '5249': 694,\n",
       " 'MK17': 2733,\n",
       " '92H': 914,\n",
       " '450Ppw': 636,\n",
       " 'Watching': 4277,\n",
       " 'telugu': 10359,\n",
       " 'moviewat': 8275,\n",
       " 'abt': 4474,\n",
       " 'loads': 7850,\n",
       " 'loans': 7852,\n",
       " 'Hi': 2225,\n",
       " 'Wk': 4331,\n",
       " 'hols': 7157,\n",
       " 'run': 9492,\n",
       " 'Forgot': 1934,\n",
       " 'hairdressers': 7003,\n",
       " 'appointment': 4735,\n",
       " 'four': 6685,\n",
       " 'shower': 9746,\n",
       " 'beforehand': 4985,\n",
       " 'cause': 5379,\n",
       " 'prob': 9062,\n",
       " 'cup': 5808,\n",
       " 'coffee': 5575,\n",
       " 'animation': 4673,\n",
       " 'nothing': 8480,\n",
       " 'else': 6282,\n",
       " 'Okay': 3065,\n",
       " 'price': 9038,\n",
       " 'long': 7876,\n",
       " 'legal': 7751,\n",
       " 'Wen': 4295,\n",
       " 'ave': 4861,\n",
       " 'ams': 4657,\n",
       " 'xx': 11270,\n",
       " 'gone': 6888,\n",
       " '4the': 675,\n",
       " 'driving': 6171,\n",
       " 'test': 10374,\n",
       " 'yet': 11300,\n",
       " 'wow': 11184,\n",
       " 'Youre': 4443,\n",
       " 'mean': 8079,\n",
       " 'guess': 6973,\n",
       " 'gave': 6799,\n",
       " 'boston': 5126,\n",
       " 'men': 8115,\n",
       " 'changed': 5413,\n",
       " 'search': 9596,\n",
       " 'location': 7855,\n",
       " 'nyc': 8519,\n",
       " 'Cuz': 1560,\n",
       " 'signin': 9774,\n",
       " 'page': 8696,\n",
       " 'says': 9559,\n",
       " 'Umma': 4110,\n",
       " 'life': 7786,\n",
       " 'vava': 10836,\n",
       " 'umma': 10711,\n",
       " 'lot': 7897,\n",
       " 'dear': 5902,\n",
       " 'wishes': 11104,\n",
       " 'birthday': 5051,\n",
       " 'making': 8004,\n",
       " 'truly': 10651,\n",
       " 'memorable': 8112,\n",
       " 'Aight': 1031,\n",
       " 'hit': 7135,\n",
       " 'would': 11180,\n",
       " 'ip': 7418,\n",
       " 'address': 4524,\n",
       " 'considering': 5678,\n",
       " 'computer': 5642,\n",
       " 'isnt': 7440,\n",
       " 'minecraft': 8170,\n",
       " 'server': 9660,\n",
       " 'Grumpy': 2092,\n",
       " 'old': 8580,\n",
       " 'people': 8794,\n",
       " 'mom': 8232,\n",
       " 'better': 5020,\n",
       " 'lying': 7960,\n",
       " 'jokes': 7531,\n",
       " 'worry': 11171,\n",
       " 'busy': 5243,\n",
       " 'plural': 8905,\n",
       " 'noun': 8487,\n",
       " 'research': 9363,\n",
       " 'Going': 2066,\n",
       " 'dinnermsg': 6046,\n",
       " 'cos': 5727,\n",
       " 'things': 10432,\n",
       " 'scared': 9565,\n",
       " 'mah': 7990,\n",
       " 'Cos': 1523,\n",
       " 'loud': 7908,\n",
       " 'GENT': 1979,\n",
       " 'contact': 5683,\n",
       " 'Last': 2607,\n",
       " 'weekends': 11009,\n",
       " 'draw': 6150,\n",
       " 'shows': 9751,\n",
       " 'GUARANTEED': 2022,\n",
       " '09064012160': 238,\n",
       " 'Code': 1494,\n",
       " 'K52': 2469,\n",
       " '12hrs': 338,\n",
       " '150ppm': 370,\n",
       " 'Wa': 4252,\n",
       " 'openin': 8603,\n",
       " 'sentence': 9650,\n",
       " 'formal': 6669,\n",
       " 'Anyway': 1072,\n",
       " 'fine': 6565,\n",
       " 'juz': 7560,\n",
       " 'tt': 10661,\n",
       " 'eatin': 6236,\n",
       " 'puttin': 9143,\n",
       " 'weightHaha': 11016,\n",
       " 'anythin': 4706,\n",
       " 'happened': 7027,\n",
       " 'entered': 6321,\n",
       " 'cabin': 5263,\n",
       " 'PA': 3104,\n",
       " 'Happy': 2186,\n",
       " 'Bday': 1232,\n",
       " 'Boss': 1290,\n",
       " 'felt': 6526,\n",
       " 'askd': 4800,\n",
       " 'invited': 7411,\n",
       " 'apartment': 4715,\n",
       " 'went': 11030,\n",
       " 'winner': 11094,\n",
       " 'specially': 9977,\n",
       " 'holiday': 7153,\n",
       " 'flights': 6609,\n",
       " 'inc': 7331,\n",
       " 'operator': 8607,\n",
       " '0871277810910pmin': 123,\n",
       " '18': 387,\n",
       " 'Goodo': 2075,\n",
       " 'must': 8324,\n",
       " 'friday': 6712,\n",
       " 'eggpotato': 6261,\n",
       " 'ratio': 9203,\n",
       " 'tortilla': 10583,\n",
       " 'needed': 8388,\n",
       " 'Hmmmy': 2246,\n",
       " 'uncle': 10716,\n",
       " 'informed': 7358,\n",
       " 'paying': 8773,\n",
       " 'school': 9571,\n",
       " 'directly': 6050,\n",
       " 'pls': 8901,\n",
       " 'food': 6645,\n",
       " 'PRIVATE': 3166,\n",
       " '2004': 429,\n",
       " 'Account': 1004,\n",
       " 'Statement': 3776,\n",
       " '07742676969': 31,\n",
       " '786': 788,\n",
       " 'unredeemed': 10754,\n",
       " 'Points': 3251,\n",
       " '08719180248': 171,\n",
       " 'Identifier': 2348,\n",
       " '45239': 639,\n",
       " 'Expires': 1825,\n",
       " '£2000': 11384,\n",
       " 'Caller': 1420,\n",
       " '5903': 702,\n",
       " 'Landline': 2602,\n",
       " '09064019788': 244,\n",
       " 'BOX42WR29C': 1185,\n",
       " '150PPM': 355,\n",
       " 'applespairsall': 4729,\n",
       " 'malarky': 8006,\n",
       " 'Todays': 4012,\n",
       " 'Voda': 4179,\n",
       " 'numbers': 8510,\n",
       " 'ending': 6300,\n",
       " '7548': 783,\n",
       " '350': 566,\n",
       " 'award': 4872,\n",
       " 'match': 8046,\n",
       " 'please': 8894,\n",
       " '08712300220': 105,\n",
       " 'quoting': 9170,\n",
       " '4041': 610,\n",
       " 'standard': 10044,\n",
       " 'rates': 9201,\n",
       " 'app': 4723,\n",
       " 'sao': 9531,\n",
       " 'mu': 8298,\n",
       " 'Ü': 11415,\n",
       " 'predict': 9005,\n",
       " 'üll': 11419,\n",
       " 'buying': 5251,\n",
       " 'Good': 2070,\n",
       " 'knowyetunde': 7646,\n",
       " 'hasnt': 7042,\n",
       " 'sent': 9649,\n",
       " 'bother': 5128,\n",
       " 'sending': 9642,\n",
       " 'involve': 7415,\n",
       " 'shouldnt': 9738,\n",
       " 'imposed': 7321,\n",
       " 'apologise': 4720,\n",
       " 'HEY': 2131,\n",
       " 'GIRL': 1985,\n",
       " 'HOPE': 2149,\n",
       " 'WELL': 4207,\n",
       " 'DEL': 1580,\n",
       " 'BAK': 1134,\n",
       " 'LONG': 2575,\n",
       " 'TIME': 3883,\n",
       " 'GIVE': 1988,\n",
       " 'CALL': 1341,\n",
       " 'SUM': 3564,\n",
       " 'LUCYxx': 2595,\n",
       " 'Kkhow': 2521,\n",
       " 'cost': 5729,\n",
       " 'Dear': 1634,\n",
       " 'Tmorrowpls': 4005,\n",
       " 'accomodate': 4491,\n",
       " 'answer': 4689,\n",
       " 'question': 9156,\n",
       " 'Sunshine': 3817,\n",
       " 'Quiz': 3318,\n",
       " 'Wkly': 4332,\n",
       " 'Q': 3304,\n",
       " 'Win': 4320,\n",
       " 'top': 10574,\n",
       " 'Sony': 3732,\n",
       " 'DVD': 1614,\n",
       " 'player': 8886,\n",
       " 'country': 5744,\n",
       " 'Algarve': 1047,\n",
       " 'ansr': 4688,\n",
       " '82277': 827,\n",
       " 'SPTyrone': 3539,\n",
       " 'Want': 4267,\n",
       " 'laid': 7681,\n",
       " 'Dogging': 1688,\n",
       " 'locations': 7856,\n",
       " 'direct': 6049,\n",
       " 'mob': 8215,\n",
       " 'Join': 2447,\n",
       " 'UKs': 4077,\n",
       " 'largest': 7703,\n",
       " 'Network': 2963,\n",
       " 'bt': 5207,\n",
       " 'Txting': 4065,\n",
       " 'GRAVEL': 2018,\n",
       " '69888': 752,\n",
       " 'Nt': 3020,\n",
       " 'ec2a': 6239,\n",
       " '31pmsg150p': 559,\n",
       " 'haf': 6997,\n",
       " 'msn': 8293,\n",
       " 'yijuehotmailcom': 11306,\n",
       " 'rooms': 9464,\n",
       " 'befor': 4984,\n",
       " 'activities': 4514,\n",
       " 'Youll': 4442,\n",
       " 'msgs': 8286,\n",
       " 'chat': 5435,\n",
       " 'svc': 10252,\n",
       " 'Hardcore': 2188,\n",
       " 'services': 9662,\n",
       " 'GO': 1993,\n",
       " '69988': 756,\n",
       " 'Age': 1025,\n",
       " 'Verify': 4169,\n",
       " 'yr': 11341,\n",
       " 'Got': 2080,\n",
       " 'lazy': 7731,\n",
       " 'type': 10694,\n",
       " 'forgot': 6666,\n",
       " 'lect': 7745,\n",
       " 'pouch': 8972,\n",
       " 'youre': 11329,\n",
       " 'Sir': 3690,\n",
       " 'Waiting': 4259,\n",
       " 'mail': 7993,\n",
       " 'swt': 10273,\n",
       " 'Nver': 3025,\n",
       " 'tired': 10501,\n",
       " 'little': 7838,\n",
       " 'lovable': 7912,\n",
       " 'persons': 8817,\n",
       " 'Cozsomtimes': 1532,\n",
       " 'occupy': 8535,\n",
       " 'biggest': 5035,\n",
       " 'Hearts': 2202,\n",
       " 'Gud': 2096,\n",
       " 'ni8': 8421,\n",
       " 'open': 8600,\n",
       " 'ya': 11279,\n",
       " 'dot': 6133,\n",
       " 'Whats': 4304,\n",
       " 'staff': 10034,\n",
       " 'taking': 10300,\n",
       " 'replied': 9347,\n",
       " 'Randy': 3375,\n",
       " 'sexy': 9676,\n",
       " 'female': 6527,\n",
       " 'local': 7854,\n",
       " 'Luv': 2680,\n",
       " 'Netcollex': 2962,\n",
       " ...}"
      ]
     },
     "execution_count": 40,
     "metadata": {},
     "output_type": "execute_result"
    }
   ],
   "source": [
    "bow_transformer.vocabulary_"
   ]
  },
  {
   "cell_type": "code",
   "execution_count": 41,
   "id": "58dc15e9",
   "metadata": {},
   "outputs": [
    {
     "data": {
      "text/plain": [
       "11425"
      ]
     },
     "execution_count": 41,
     "metadata": {},
     "output_type": "execute_result"
    }
   ],
   "source": [
    "len(bow_transformer.vocabulary_)"
   ]
  },
  {
   "cell_type": "code",
   "execution_count": 42,
   "id": "bfade351",
   "metadata": {},
   "outputs": [
    {
     "name": "stdout",
     "output_type": "stream",
     "text": [
      "U dun say so early hor... U c already then say...\n"
     ]
    }
   ],
   "source": [
    "message4 = mess_data['Message'][3]\n",
    "print(message4)"
   ]
  },
  {
   "cell_type": "code",
   "execution_count": 43,
   "id": "7462083e",
   "metadata": {},
   "outputs": [],
   "source": [
    "bow4=bow_transformer.transform([message4])"
   ]
  },
  {
   "cell_type": "code",
   "execution_count": 44,
   "id": "a42fe747",
   "metadata": {},
   "outputs": [
    {
     "name": "stdout",
     "output_type": "stream",
     "text": [
      "  (0, 4068)\t2\n",
      "  (0, 4629)\t1\n",
      "  (0, 5261)\t1\n",
      "  (0, 6204)\t1\n",
      "  (0, 6222)\t1\n",
      "  (0, 7186)\t1\n",
      "  (0, 9554)\t2\n",
      "(1, 11425)\n"
     ]
    }
   ],
   "source": [
    "print(bow4)\n",
    "print(bow4.shape)"
   ]
  },
  {
   "cell_type": "code",
   "execution_count": 45,
   "id": "8579a771",
   "metadata": {},
   "outputs": [
    {
     "name": "stdout",
     "output_type": "stream",
     "text": [
      "U\n",
      "2\n"
     ]
    }
   ],
   "source": [
    "print(bow_transformer.get_feature_names_out()[4068])\n",
    "print(bow_transformer.get_feature_names_out()[423])"
   ]
  },
  {
   "cell_type": "code",
   "execution_count": 46,
   "id": "7a45aea0",
   "metadata": {},
   "outputs": [],
   "source": [
    "messages_bow = bow_transformer.transform(mess_data['Message'])"
   ]
  },
  {
   "cell_type": "code",
   "execution_count": 47,
   "id": "4a99060b",
   "metadata": {},
   "outputs": [
    {
     "name": "stdout",
     "output_type": "stream",
     "text": [
      "Shape of Sparse Matrix:  (5572, 11425)\n"
     ]
    }
   ],
   "source": [
    "print('Shape of Sparse Matrix: ', messages_bow.shape)"
   ]
  },
  {
   "cell_type": "code",
   "execution_count": 48,
   "id": "903a151f",
   "metadata": {},
   "outputs": [
    {
     "name": "stdout",
     "output_type": "stream",
     "text": [
      "Amount of Non-Zero occurences:  50548\n"
     ]
    }
   ],
   "source": [
    "print('Amount of Non-Zero occurences: ', messages_bow.nnz)"
   ]
  },
  {
   "cell_type": "code",
   "execution_count": 49,
   "id": "71356448",
   "metadata": {},
   "outputs": [
    {
     "name": "stdout",
     "output_type": "stream",
     "text": [
      "Labels                            ham\n",
      "Message    Rofl. Its true to its name\n",
      "Length                             26\n",
      "Name: 5571, dtype: object\n"
     ]
    }
   ],
   "source": [
    "print(mess_data.iloc[5571])"
   ]
  },
  {
   "cell_type": "code",
   "execution_count": 50,
   "id": "6622bb75",
   "metadata": {},
   "outputs": [
    {
     "name": "stdout",
     "output_type": "stream",
     "text": [
      "sparsity: 0.07940295412668218\n"
     ]
    }
   ],
   "source": [
    "sparsity = (100.0 * messages_bow.nnz / (messages_bow.shape[0] * messages_bow.shape[1]))\n",
    "print('sparsity: {}'.format(sparsity))"
   ]
  },
  {
   "cell_type": "code",
   "execution_count": 51,
   "id": "c77c0b5b",
   "metadata": {},
   "outputs": [
    {
     "name": "stdout",
     "output_type": "stream",
     "text": [
      "  (0, 9554)\t0.5385626262927564\n",
      "  (0, 7186)\t0.4389365653379857\n",
      "  (0, 6222)\t0.3187216892949149\n",
      "  (0, 6204)\t0.29953799723697416\n",
      "  (0, 5261)\t0.29729957405868723\n",
      "  (0, 4629)\t0.26619801906087187\n",
      "  (0, 4068)\t0.40832589933384067\n"
     ]
    }
   ],
   "source": [
    "from sklearn.feature_extraction.text import TfidfTransformer\n",
    "\n",
    "tfidf_transformer = TfidfTransformer().fit(messages_bow)\n",
    "tfidf4 = tfidf_transformer.transform(bow4)\n",
    "print(tfidf4)"
   ]
  },
  {
   "cell_type": "code",
   "execution_count": 52,
   "id": "d8b8ed56",
   "metadata": {},
   "outputs": [
    {
     "name": "stdout",
     "output_type": "stream",
     "text": [
      "3.2800524267409408\n",
      "6.447634957221591\n"
     ]
    }
   ],
   "source": [
    "print(tfidf_transformer.idf_[10698])\n",
    "print(tfidf_transformer.idf_[bow_transformer.vocabulary_['k']])"
   ]
  },
  {
   "cell_type": "code",
   "execution_count": 53,
   "id": "7817a70f",
   "metadata": {},
   "outputs": [
    {
     "name": "stdout",
     "output_type": "stream",
     "text": [
      "(5572, 11425)\n"
     ]
    }
   ],
   "source": [
    "messages_tfidf = tfidf_transformer.transform(messages_bow)\n",
    "print(messages_tfidf.shape)"
   ]
  },
  {
   "cell_type": "code",
   "execution_count": 54,
   "id": "c9888f52",
   "metadata": {},
   "outputs": [
    {
     "data": {
      "text/plain": [
       "10698"
      ]
     },
     "execution_count": 54,
     "metadata": {},
     "output_type": "execute_result"
    }
   ],
   "source": [
    "bow_transformer.vocabulary_['u']"
   ]
  },
  {
   "cell_type": "code",
   "execution_count": 55,
   "id": "c6d76db8",
   "metadata": {},
   "outputs": [
    {
     "data": {
      "text/plain": [
       "<1x11425 sparse matrix of type '<class 'numpy.float64'>'\n",
       "\twith 16 stored elements in Compressed Sparse Row format>"
      ]
     },
     "execution_count": 55,
     "metadata": {},
     "output_type": "execute_result"
    }
   ],
   "source": [
    "messages_tfidf[0]"
   ]
  },
  {
   "cell_type": "code",
   "execution_count": 56,
   "id": "f0b1acb9",
   "metadata": {},
   "outputs": [],
   "source": [
    "from sklearn.naive_bayes import MultinomialNB\n",
    "spam_detect_model = MultinomialNB().fit(messages_tfidf, mess_data['Labels'])"
   ]
  },
  {
   "cell_type": "code",
   "execution_count": 57,
   "id": "8da808ff",
   "metadata": {},
   "outputs": [
    {
     "name": "stdout",
     "output_type": "stream",
     "text": [
      "predicted: ['ham']\n",
      "expected: ham\n"
     ]
    }
   ],
   "source": [
    "print('predicted:', spam_detect_model.predict(tfidf4))\n",
    "print('expected:', mess_data.Labels[3])"
   ]
  },
  {
   "cell_type": "code",
   "execution_count": 58,
   "id": "aeadf80a",
   "metadata": {},
   "outputs": [
    {
     "name": "stdout",
     "output_type": "stream",
     "text": [
      "['ham' 'ham' 'spam' ... 'ham' 'ham' 'ham']\n"
     ]
    }
   ],
   "source": [
    "all_predictions = spam_detect_model.predict(messages_tfidf)\n",
    "print(all_predictions)"
   ]
  },
  {
   "cell_type": "code",
   "execution_count": 59,
   "id": "c8726993",
   "metadata": {},
   "outputs": [
    {
     "data": {
      "image/png": "[encoded data removed]",
      "text/plain": [
       "<Figure size 1000x600 with 1 Axes>"
      ]
     },
     "metadata": {},
     "output_type": "display_data"
    }
   ],
   "source": [
    "from sklearn.metrics import classification_report\n",
    "report_dict = classification_report(mess_data['Labels'], all_predictions, output_dict=True)\n",
    "report_df = pd.DataFrame(report_dict).transpose()\n",
    "plt.figure(figsize=(10, 6))\n",
    "sns.heatmap(report_df, annot=True, cmap='Oranges', cbar=False, fmt='.2f',linewidths=0.4,linecolor='white')\n",
    "plt.title('Classification Report')\n",
    "plt.show()"
   ]
  },
  {
   "cell_type": "markdown",
   "id": "09ab76d3",
   "metadata": {},
   "source": [
    "# MODEL TRAINING"
   ]
  },
  {
   "cell_type": "code",
   "execution_count": 60,
   "id": "f5dafade",
   "metadata": {},
   "outputs": [],
   "source": [
    "from sklearn.model_selection import train_test_split"
   ]
  },
  {
   "cell_type": "code",
   "execution_count": 61,
   "id": "d56f24e1",
   "metadata": {},
   "outputs": [],
   "source": [
    "msg_train, msg_test, label_train, label_test = train_test_split(mess_data['Message'], mess_data['Labels'], test_size=0.30, random_state=42)"
   ]
  },
  {
   "cell_type": "code",
   "execution_count": 62,
   "id": "cf503677",
   "metadata": {},
   "outputs": [
    {
     "name": "stdout",
     "output_type": "stream",
     "text": [
      "3900 1672 5572\n"
     ]
    }
   ],
   "source": [
    "print(len(msg_train), len(msg_test), len(msg_train) + len(msg_test))"
   ]
  },
  {
   "cell_type": "code",
   "execution_count": 63,
   "id": "2a6caeca",
   "metadata": {},
   "outputs": [],
   "source": [
    "from sklearn.pipeline import Pipeline"
   ]
  },
  {
   "cell_type": "code",
   "execution_count": 64,
   "id": "46e71151",
   "metadata": {},
   "outputs": [],
   "source": [
    "pipeline=Pipeline([('bow',CountVectorizer(analyzer=text_process)),\n",
    "                  ('tfid',TfidfTransformer()),('model',MultinomialNB())])"
   ]
  },
  {
   "cell_type": "code",
   "execution_count": 65,
   "id": "5e124430",
   "metadata": {},
   "outputs": [
    {
     "data": {
      "text/html": [
       "<style>#sk-container-id-1 {color: black;}#sk-container-id-1 pre{padding: 0;}#sk-container-id-1 div.sk-toggleable {background-color: white;}#sk-container-id-1 label.sk-toggleable__label {cursor: pointer;display: block;width: 100%;margin-bottom: 0;padding: 0.3em;box-sizing: border-box;text-align: center;}#sk-container-id-1 label.sk-toggleable__label-arrow:before {content: \"▸\";float: left;margin-right: 0.25em;color: #696969;}#sk-container-id-1 label.sk-toggleable__label-arrow:hover:before {color: black;}#sk-container-id-1 div.sk-estimator:hover label.sk-toggleable__label-arrow:before {color: black;}#sk-container-id-1 div.sk-toggleable__content {max-height: 0;max-width: 0;overflow: hidden;text-align: left;background-color: #f0f8ff;}#sk-container-id-1 div.sk-toggleable__content pre {margin: 0.2em;color: black;border-radius: 0.25em;background-color: #f0f8ff;}#sk-container-id-1 input.sk-toggleable__control:checked~div.sk-toggleable__content {max-height: 200px;max-width: 100%;overflow: auto;}#sk-container-id-1 input.sk-toggleable__control:checked~label.sk-toggleable__label-arrow:before {content: \"▾\";}#sk-container-id-1 div.sk-estimator input.sk-toggleable__control:checked~label.sk-toggleable__label {background-color: #d4ebff;}#sk-container-id-1 div.sk-label input.sk-toggleable__control:checked~label.sk-toggleable__label {background-color: #d4ebff;}#sk-container-id-1 input.sk-hidden--visually {border: 0;clip: rect(1px 1px 1px 1px);clip: rect(1px, 1px, 1px, 1px);height: 1px;margin: -1px;overflow: hidden;padding: 0;position: absolute;width: 1px;}#sk-container-id-1 div.sk-estimator {font-family: monospace;background-color: #f0f8ff;border: 1px dotted black;border-radius: 0.25em;box-sizing: border-box;margin-bottom: 0.5em;}#sk-container-id-1 div.sk-estimator:hover {background-color: #d4ebff;}#sk-container-id-1 div.sk-parallel-item::after {content: \"\";width: 100%;border-bottom: 1px solid gray;flex-grow: 1;}#sk-container-id-1 div.sk-label:hover label.sk-toggleable__label {background-color: #d4ebff;}#sk-container-id-1 div.sk-serial::before {content: \"\";position: absolute;border-left: 1px solid gray;box-sizing: border-box;top: 0;bottom: 0;left: 50%;z-index: 0;}#sk-container-id-1 div.sk-serial {display: flex;flex-direction: column;align-items: center;background-color: white;padding-right: 0.2em;padding-left: 0.2em;position: relative;}#sk-container-id-1 div.sk-item {position: relative;z-index: 1;}#sk-container-id-1 div.sk-parallel {display: flex;align-items: stretch;justify-content: center;background-color: white;position: relative;}#sk-container-id-1 div.sk-item::before, #sk-container-id-1 div.sk-parallel-item::before {content: \"\";position: absolute;border-left: 1px solid gray;box-sizing: border-box;top: 0;bottom: 0;left: 50%;z-index: -1;}#sk-container-id-1 div.sk-parallel-item {display: flex;flex-direction: column;z-index: 1;position: relative;background-color: white;}#sk-container-id-1 div.sk-parallel-item:first-child::after {align-self: flex-end;width: 50%;}#sk-container-id-1 div.sk-parallel-item:last-child::after {align-self: flex-start;width: 50%;}#sk-container-id-1 div.sk-parallel-item:only-child::after {width: 0;}#sk-container-id-1 div.sk-dashed-wrapped {border: 1px dashed gray;margin: 0 0.4em 0.5em 0.4em;box-sizing: border-box;padding-bottom: 0.4em;background-color: white;}#sk-container-id-1 div.sk-label label {font-family: monospace;font-weight: bold;display: inline-block;line-height: 1.2em;}#sk-container-id-1 div.sk-label-container {text-align: center;}#sk-container-id-1 div.sk-container {/* jupyter's `normalize.less` sets `[hidden] { display: none; }` but bootstrap.min.css set `[hidden] { display: none !important; }` so we also need the `!important` here to be able to override the default hidden behavior on the sphinx rendered scikit-learn.org. See: https://github.com/scikit-learn/scikit-learn/issues/21755 */display: inline-block !important;position: relative;}#sk-container-id-1 div.sk-text-repr-fallback {display: none;}</style><div id=\"sk-container-id-1\" class=\"sk-top-container\"><div class=\"sk-text-repr-fallback\"><pre>Pipeline(steps=[(&#x27;bow&#x27;,\n",
       "                 CountVectorizer(analyzer=&lt;function text_process at 0x00000288D7E4FA60&gt;)),\n",
       "                (&#x27;tfid&#x27;, TfidfTransformer()), (&#x27;model&#x27;, MultinomialNB())])</pre><b>In a Jupyter environment, please rerun this cell to show the HTML representation or trust the notebook. <br />On GitHub, the HTML representation is unable to render, please try loading this page with nbviewer.org.</b></div><div class=\"sk-container\" hidden><div class=\"sk-item sk-dashed-wrapped\"><div class=\"sk-label-container\"><div class=\"sk-label sk-toggleable\"><input class=\"sk-toggleable__control sk-hidden--visually\" id=\"sk-estimator-id-1\" type=\"checkbox\" ><label for=\"sk-estimator-id-1\" class=\"sk-toggleable__label sk-toggleable__label-arrow\">Pipeline</label><div class=\"sk-toggleable__content\"><pre>Pipeline(steps=[(&#x27;bow&#x27;,\n",
       "                 CountVectorizer(analyzer=&lt;function text_process at 0x00000288D7E4FA60&gt;)),\n",
       "                (&#x27;tfid&#x27;, TfidfTransformer()), (&#x27;model&#x27;, MultinomialNB())])</pre></div></div></div><div class=\"sk-serial\"><div class=\"sk-item\"><div class=\"sk-estimator sk-toggleable\"><input class=\"sk-toggleable__control sk-hidden--visually\" id=\"sk-estimator-id-2\" type=\"checkbox\" ><label for=\"sk-estimator-id-2\" class=\"sk-toggleable__label sk-toggleable__label-arrow\">CountVectorizer</label><div class=\"sk-toggleable__content\"><pre>CountVectorizer(analyzer=&lt;function text_process at 0x00000288D7E4FA60&gt;)</pre></div></div></div><div class=\"sk-item\"><div class=\"sk-estimator sk-toggleable\"><input class=\"sk-toggleable__control sk-hidden--visually\" id=\"sk-estimator-id-3\" type=\"checkbox\" ><label for=\"sk-estimator-id-3\" class=\"sk-toggleable__label sk-toggleable__label-arrow\">TfidfTransformer</label><div class=\"sk-toggleable__content\"><pre>TfidfTransformer()</pre></div></div></div><div class=\"sk-item\"><div class=\"sk-estimator sk-toggleable\"><input class=\"sk-toggleable__control sk-hidden--visually\" id=\"sk-estimator-id-4\" type=\"checkbox\" ><label for=\"sk-estimator-id-4\" class=\"sk-toggleable__label sk-toggleable__label-arrow\">MultinomialNB</label><div class=\"sk-toggleable__content\"><pre>MultinomialNB()</pre></div></div></div></div></div></div></div>"
      ],
      "text/plain": [
       "Pipeline(steps=[('bow',\n",
       "                 CountVectorizer(analyzer=<function text_process at 0x00000288D7E4FA60>)),\n",
       "                ('tfid', TfidfTransformer()), ('model', MultinomialNB())])"
      ]
     },
     "execution_count": 65,
     "metadata": {},
     "output_type": "execute_result"
    }
   ],
   "source": [
    "pipeline.fit(msg_train,label_train)"
   ]
  },
  {
   "cell_type": "code",
   "execution_count": 66,
   "id": "a8ac6234",
   "metadata": {},
   "outputs": [],
   "source": [
    "predictions=pipeline.predict(msg_test)"
   ]
  },
  {
   "cell_type": "code",
   "execution_count": 67,
   "id": "3f21ee8c",
   "metadata": {},
   "outputs": [],
   "source": [
    "from sklearn.metrics import classification_report,confusion_matrix"
   ]
  },
  {
   "cell_type": "code",
   "execution_count": 68,
   "id": "7e963afe",
   "metadata": {},
   "outputs": [
    {
     "data": {
      "image/png": "[encoded data removed]",
      "text/plain": [
       "<Figure size 1000x600 with 1 Axes>"
      ]
     },
     "metadata": {},
     "output_type": "display_data"
    }
   ],
   "source": [
    "final_report_dict = classification_report(label_test,predictions,output_dict=True)\n",
    "final_report_df = pd.DataFrame(report_dict).transpose()\n",
    "plt.figure(figsize=(10, 6))\n",
    "sns.heatmap(report_df, annot=True, cmap='Greens', cbar=False, fmt='.2f',linewidths=0.4,linecolor='white')\n",
    "plt.title('Classification Report')\n",
    "plt.show()"
   ]
  },
  {
   "cell_type": "code",
   "execution_count": 69,
   "id": "4c609343",
   "metadata": {},
   "outputs": [
    {
     "data": {
      "image/png": "[encoded data removed]",
      "text/plain": [
       "<Figure size 600x400 with 2 Axes>"
      ]
     },
     "metadata": {},
     "output_type": "display_data"
    }
   ],
   "source": [
    "plt.figure(figsize=(6, 4))\n",
    "sns.heatmap(confusion_matrix(label_test,predictions), annot=True, fmt='d', cmap='Blues')\n",
    "plt.title('\\nConfusion Matrix\\n')\n",
    "plt.xlabel('Predicted')\n",
    "plt.ylabel('Actual')\n",
    "plt.show()"
   ]
  },
  {
   "cell_type": "markdown",
   "id": "ab697a2f",
   "metadata": {},
   "source": [
    "#### DONE BY\n",
    "\n",
    "MOHAMED SAMIR M"
   ]
  },
  {
   "cell_type": "code",
   "execution_count": null,
   "id": "2ebb0920",
   "metadata": {},
   "outputs": [],
   "source": []
  }
 ],
 "metadata": {
  "kernelspec": {
   "display_name": "Python 3 (ipykernel)",
   "language": "python",
   "name": "python3"
  },
  "language_info": {
   "codemirror_mode": {
    "name": "ipython",
    "version": 3
   },
   "file_extension": ".py",
   "mimetype": "text/x-python",
   "name": "python",
   "nbconvert_exporter": "python",
   "pygments_lexer": "ipython3",
   "version": "3.11.5"
  }
 },
 "nbformat": 4,
 "nbformat_minor": 5
}
